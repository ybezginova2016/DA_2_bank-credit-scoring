{
 "cells": [
  {
   "cell_type": "markdown",
   "id": "26ee80bf",
   "metadata": {},
   "source": [
    "## Research of Borrowers' Reliability _(part 2)_"
   ]
  },
  {
   "cell_type": "markdown",
   "id": "22a3273f",
   "metadata": {},
   "source": [
    "### 3. Opening a pre-processed dataset"
   ]
  },
  {
   "cell_type": "code",
   "execution_count": 2,
   "id": "30d52620",
   "metadata": {},
   "outputs": [
    {
     "data": {
      "text/html": [
       "<div>\n",
       "<style scoped>\n",
       "    .dataframe tbody tr th:only-of-type {\n",
       "        vertical-align: middle;\n",
       "    }\n",
       "\n",
       "    .dataframe tbody tr th {\n",
       "        vertical-align: top;\n",
       "    }\n",
       "\n",
       "    .dataframe thead th {\n",
       "        text-align: right;\n",
       "    }\n",
       "</style>\n",
       "<table border=\"1\" class=\"dataframe\">\n",
       "  <thead>\n",
       "    <tr style=\"text-align: right;\">\n",
       "      <th></th>\n",
       "      <th>Unnamed: 0</th>\n",
       "      <th>children</th>\n",
       "      <th>days_employed</th>\n",
       "      <th>dob_years</th>\n",
       "      <th>education</th>\n",
       "      <th>education_id</th>\n",
       "      <th>family_status</th>\n",
       "      <th>family_status_id</th>\n",
       "      <th>gender</th>\n",
       "      <th>income_type</th>\n",
       "      <th>debt</th>\n",
       "      <th>total_income</th>\n",
       "      <th>purpose</th>\n",
       "      <th>total_income_category</th>\n",
       "      <th>purpose_category</th>\n",
       "    </tr>\n",
       "  </thead>\n",
       "  <tbody>\n",
       "    <tr>\n",
       "      <th>0</th>\n",
       "      <td>0</td>\n",
       "      <td>1</td>\n",
       "      <td>8437.673028</td>\n",
       "      <td>42</td>\n",
       "      <td>высшее</td>\n",
       "      <td>0</td>\n",
       "      <td>женат / замужем</td>\n",
       "      <td>0</td>\n",
       "      <td>F</td>\n",
       "      <td>сотрудник</td>\n",
       "      <td>0</td>\n",
       "      <td>253875</td>\n",
       "      <td>покупка жилья</td>\n",
       "      <td>B</td>\n",
       "      <td>операции с недвижимостью</td>\n",
       "    </tr>\n",
       "    <tr>\n",
       "      <th>1</th>\n",
       "      <td>1</td>\n",
       "      <td>1</td>\n",
       "      <td>4024.803754</td>\n",
       "      <td>36</td>\n",
       "      <td>среднее</td>\n",
       "      <td>1</td>\n",
       "      <td>женат / замужем</td>\n",
       "      <td>0</td>\n",
       "      <td>F</td>\n",
       "      <td>сотрудник</td>\n",
       "      <td>0</td>\n",
       "      <td>112080</td>\n",
       "      <td>приобретение автомобиля</td>\n",
       "      <td>C</td>\n",
       "      <td>операции с автомобилем</td>\n",
       "    </tr>\n",
       "    <tr>\n",
       "      <th>2</th>\n",
       "      <td>2</td>\n",
       "      <td>0</td>\n",
       "      <td>5623.422610</td>\n",
       "      <td>33</td>\n",
       "      <td>среднее</td>\n",
       "      <td>1</td>\n",
       "      <td>женат / замужем</td>\n",
       "      <td>0</td>\n",
       "      <td>M</td>\n",
       "      <td>сотрудник</td>\n",
       "      <td>0</td>\n",
       "      <td>145885</td>\n",
       "      <td>покупка жилья</td>\n",
       "      <td>C</td>\n",
       "      <td>операции с недвижимостью</td>\n",
       "    </tr>\n",
       "    <tr>\n",
       "      <th>3</th>\n",
       "      <td>3</td>\n",
       "      <td>3</td>\n",
       "      <td>4124.747207</td>\n",
       "      <td>32</td>\n",
       "      <td>среднее</td>\n",
       "      <td>1</td>\n",
       "      <td>женат / замужем</td>\n",
       "      <td>0</td>\n",
       "      <td>M</td>\n",
       "      <td>сотрудник</td>\n",
       "      <td>0</td>\n",
       "      <td>267628</td>\n",
       "      <td>дополнительное образование</td>\n",
       "      <td>B</td>\n",
       "      <td>получение образования</td>\n",
       "    </tr>\n",
       "    <tr>\n",
       "      <th>4</th>\n",
       "      <td>4</td>\n",
       "      <td>0</td>\n",
       "      <td>340266.072047</td>\n",
       "      <td>53</td>\n",
       "      <td>среднее</td>\n",
       "      <td>1</td>\n",
       "      <td>гражданский брак</td>\n",
       "      <td>1</td>\n",
       "      <td>F</td>\n",
       "      <td>пенсионер</td>\n",
       "      <td>0</td>\n",
       "      <td>158616</td>\n",
       "      <td>сыграть свадьбу</td>\n",
       "      <td>C</td>\n",
       "      <td>проведение свадьбы</td>\n",
       "    </tr>\n",
       "    <tr>\n",
       "      <th>5</th>\n",
       "      <td>5</td>\n",
       "      <td>0</td>\n",
       "      <td>926.185831</td>\n",
       "      <td>27</td>\n",
       "      <td>высшее</td>\n",
       "      <td>0</td>\n",
       "      <td>гражданский брак</td>\n",
       "      <td>1</td>\n",
       "      <td>M</td>\n",
       "      <td>компаньон</td>\n",
       "      <td>0</td>\n",
       "      <td>255763</td>\n",
       "      <td>покупка жилья</td>\n",
       "      <td>B</td>\n",
       "      <td>операции с недвижимостью</td>\n",
       "    </tr>\n",
       "    <tr>\n",
       "      <th>6</th>\n",
       "      <td>6</td>\n",
       "      <td>0</td>\n",
       "      <td>2879.202052</td>\n",
       "      <td>43</td>\n",
       "      <td>высшее</td>\n",
       "      <td>0</td>\n",
       "      <td>женат / замужем</td>\n",
       "      <td>0</td>\n",
       "      <td>F</td>\n",
       "      <td>компаньон</td>\n",
       "      <td>0</td>\n",
       "      <td>240525</td>\n",
       "      <td>операции с жильем</td>\n",
       "      <td>B</td>\n",
       "      <td>операции с недвижимостью</td>\n",
       "    </tr>\n",
       "    <tr>\n",
       "      <th>7</th>\n",
       "      <td>7</td>\n",
       "      <td>0</td>\n",
       "      <td>152.779569</td>\n",
       "      <td>50</td>\n",
       "      <td>среднее</td>\n",
       "      <td>1</td>\n",
       "      <td>женат / замужем</td>\n",
       "      <td>0</td>\n",
       "      <td>M</td>\n",
       "      <td>сотрудник</td>\n",
       "      <td>0</td>\n",
       "      <td>135823</td>\n",
       "      <td>образование</td>\n",
       "      <td>C</td>\n",
       "      <td>получение образования</td>\n",
       "    </tr>\n",
       "    <tr>\n",
       "      <th>8</th>\n",
       "      <td>8</td>\n",
       "      <td>2</td>\n",
       "      <td>6929.865299</td>\n",
       "      <td>35</td>\n",
       "      <td>высшее</td>\n",
       "      <td>0</td>\n",
       "      <td>гражданский брак</td>\n",
       "      <td>1</td>\n",
       "      <td>F</td>\n",
       "      <td>сотрудник</td>\n",
       "      <td>0</td>\n",
       "      <td>95856</td>\n",
       "      <td>на проведение свадьбы</td>\n",
       "      <td>C</td>\n",
       "      <td>проведение свадьбы</td>\n",
       "    </tr>\n",
       "    <tr>\n",
       "      <th>9</th>\n",
       "      <td>9</td>\n",
       "      <td>0</td>\n",
       "      <td>2188.756445</td>\n",
       "      <td>41</td>\n",
       "      <td>среднее</td>\n",
       "      <td>1</td>\n",
       "      <td>женат / замужем</td>\n",
       "      <td>0</td>\n",
       "      <td>M</td>\n",
       "      <td>сотрудник</td>\n",
       "      <td>0</td>\n",
       "      <td>144425</td>\n",
       "      <td>покупка жилья для семьи</td>\n",
       "      <td>C</td>\n",
       "      <td>операции с недвижимостью</td>\n",
       "    </tr>\n",
       "  </tbody>\n",
       "</table>\n",
       "</div>"
      ],
      "text/plain": [
       "   Unnamed: 0  children  days_employed  dob_years education  education_id  \\\n",
       "0           0         1    8437.673028         42    высшее             0   \n",
       "1           1         1    4024.803754         36   среднее             1   \n",
       "2           2         0    5623.422610         33   среднее             1   \n",
       "3           3         3    4124.747207         32   среднее             1   \n",
       "4           4         0  340266.072047         53   среднее             1   \n",
       "5           5         0     926.185831         27    высшее             0   \n",
       "6           6         0    2879.202052         43    высшее             0   \n",
       "7           7         0     152.779569         50   среднее             1   \n",
       "8           8         2    6929.865299         35    высшее             0   \n",
       "9           9         0    2188.756445         41   среднее             1   \n",
       "\n",
       "      family_status  family_status_id gender income_type  debt  total_income  \\\n",
       "0   женат / замужем                 0      F   сотрудник     0        253875   \n",
       "1   женат / замужем                 0      F   сотрудник     0        112080   \n",
       "2   женат / замужем                 0      M   сотрудник     0        145885   \n",
       "3   женат / замужем                 0      M   сотрудник     0        267628   \n",
       "4  гражданский брак                 1      F   пенсионер     0        158616   \n",
       "5  гражданский брак                 1      M   компаньон     0        255763   \n",
       "6   женат / замужем                 0      F   компаньон     0        240525   \n",
       "7   женат / замужем                 0      M   сотрудник     0        135823   \n",
       "8  гражданский брак                 1      F   сотрудник     0         95856   \n",
       "9   женат / замужем                 0      M   сотрудник     0        144425   \n",
       "\n",
       "                      purpose total_income_category          purpose_category  \n",
       "0               покупка жилья                     B  операции с недвижимостью  \n",
       "1     приобретение автомобиля                     C    операции с автомобилем  \n",
       "2               покупка жилья                     C  операции с недвижимостью  \n",
       "3  дополнительное образование                     B     получение образования  \n",
       "4             сыграть свадьбу                     C        проведение свадьбы  \n",
       "5               покупка жилья                     B  операции с недвижимостью  \n",
       "6           операции с жильем                     B  операции с недвижимостью  \n",
       "7                 образование                     C     получение образования  \n",
       "8       на проведение свадьбы                     C        проведение свадьбы  \n",
       "9     покупка жилья для семьи                     C  операции с недвижимостью  "
      ]
     },
     "metadata": {},
     "output_type": "display_data"
    }
   ],
   "source": [
    "import pandas as pd\n",
    "data_cleaned = pd.read_csv('/Users/yuliabezginova/PycharmProjects/project-1_bank-credit-scoring/data_cleaned.csv')\n",
    "display(data_cleaned.head(10))"
   ]
  },
  {
   "cell_type": "markdown",
   "id": "d3e2390d",
   "metadata": {},
   "source": [
    "## 4. Exploring a pre-processed data and investigating research questions (RQ)"
   ]
  },
  {
   "cell_type": "markdown",
   "id": "629aed25",
   "metadata": {},
   "source": [
    "### RQ 1 - Is there a relationship between _the number of children_ in the family and loan payment on time?"
   ]
  },
  {
   "cell_type": "markdown",
   "id": "252bf76f",
   "metadata": {},
   "source": [
    "Calculating the Pearson correlation in this case (in all four RQs below) is not effective, since one of the variables is categorical ('debt' = [0; 1])."
   ]
  },
  {
   "cell_type": "markdown",
   "id": "7127f7c8",
   "metadata": {},
   "source": [
    "**1) Let's check what values a variable _'children'_ have in the dataset.**"
   ]
  },
  {
   "cell_type": "code",
   "execution_count": 5,
   "id": "9576da85",
   "metadata": {},
   "outputs": [
    {
     "name": "stdout",
     "output_type": "stream",
     "text": [
      "[1 0 3 2 4 5]\n"
     ]
    }
   ],
   "source": [
    "print(data_cleaned['children'].unique())"
   ]
  },
  {
   "cell_type": "markdown",
   "id": "f2e906c9",
   "metadata": {},
   "source": [
    "**2)  Let's investigate a relationships between number of children in the family and on-time loan payment.**"
   ]
  },
  {
   "cell_type": "code",
   "execution_count": 6,
   "id": "9e5c0346",
   "metadata": {},
   "outputs": [
    {
     "data": {
      "text/plain": [
       "children\n",
       "0    0.075438\n",
       "1    0.092346\n",
       "2    0.094542\n",
       "3    0.081818\n",
       "4    0.097561\n",
       "5    0.000000\n",
       "dtype: float64"
      ]
     },
     "execution_count": 6,
     "metadata": {},
     "output_type": "execute_result"
    }
   ],
   "source": [
    "children_grouped = data_cleaned.groupby('children').agg({'debt': ['count', 'sum']})\n",
    "children_debt_quality = children_grouped['debt']['sum'] / children_grouped['debt']['count']\n",
    "children_debt_quality"
   ]
  },
  {
   "cell_type": "markdown",
   "id": "56c886f8",
   "metadata": {},
   "source": [
    "### Conclusion:\n",
    "- the most _unreliable_ borrowers with the **highest** debt share (0.097) are large families with 4 children;\n",
    "- the most _reliable_ borrowers with the **lowest** loan debt share  (0.075) are borrowers _without children_ at all.\n",
    "\n",
    "This is interesting that for families with 5 children, the debt share seems to be zero.\n",
    "\n",
    "However, keeping in mind the fact that for large children with 4 children the share of payment deferral is maximum, it would be wrong to conclude that families with 5 children are more reliable borrowers than those with 4. Most likely, the reason for this is in the structure of the dataset: there is a data on the number of children, but there is no data on debts for borrowers with 5 children."
   ]
  },
  {
   "cell_type": "markdown",
   "id": "007df267",
   "metadata": {},
   "source": [
    "### RQ 2 - Is there a relationship between _marital status_ and loan repayment on time?"
   ]
  },
  {
   "cell_type": "markdown",
   "id": "fab431ee",
   "metadata": {},
   "source": [
    "**1) Let's check what values a variable _'family_Status'_ have in the dataset.**"
   ]
  },
  {
   "cell_type": "code",
   "execution_count": 8,
   "id": "cffdbe98",
   "metadata": {},
   "outputs": [
    {
     "name": "stdout",
     "output_type": "stream",
     "text": [
      "['женат / замужем' 'гражданский брак' 'вдовец / вдова' 'в разводе'\n",
      " 'Не женат / не замужем']\n"
     ]
    }
   ],
   "source": [
    "print(data_cleaned['family_status'].unique())"
   ]
  },
  {
   "cell_type": "markdown",
   "id": "b678ae15",
   "metadata": {},
   "source": [
    "**2)  Let's investigate a relationships between _maritual status_ and on-time loan payment.**"
   ]
  },
  {
   "cell_type": "code",
   "execution_count": 9,
   "id": "959483c4",
   "metadata": {},
   "outputs": [
    {
     "data": {
      "text/plain": [
       "family_status\n",
       "Не женат / не замужем    0.097639\n",
       "в разводе                0.070648\n",
       "вдовец / вдова           0.066246\n",
       "гражданский брак         0.093130\n",
       "женат / замужем          0.075606\n",
       "dtype: float64"
      ]
     },
     "execution_count": 9,
     "metadata": {},
     "output_type": "execute_result"
    }
   ],
   "source": [
    "family_grouped = data_cleaned.groupby('family_status').agg({'debt': ['count', 'sum']})\n",
    "family_debt_quality = family_grouped['debt']['sum'] / family_grouped['debt']['count']\n",
    "family_debt_quality"
   ]
  },
  {
   "cell_type": "markdown",
   "id": "5b2beebe",
   "metadata": {},
   "source": [
    "### Conclusion:\n",
    "\n",
    "- Single borrowers without families (_family_status = 'single'_) have the highest share of debt rate and deferrals in repayment (0.097). This is an unexpected conclusion, because above there was a conclusion that families WITHOUT children pay the loan regularly. However, now it is possible to expand the conclusion that from bank scoring point of view, it is not enough not to have children in order to be a reliable borrower, one must also not be single (married / married);\n",
    "- the smallest share of overdue loans (0.66) was found among widowed spouses (_family_status = 'widower / widow'_)."
   ]
  },
  {
   "cell_type": "markdown",
   "id": "fc0bca46",
   "metadata": {},
   "source": [
    "### RQ 3 - Is there any relationship between income level and loan repayment on time?"
   ]
  },
  {
   "cell_type": "markdown",
   "id": "2d58dfcd",
   "metadata": {},
   "source": [
    "**From the clean data there are the following categories of income level (in RUB per month):**\n",
    "- 0–30000 — 'E'; \n",
    "- 30001–50000 — 'D';\n",
    "- 50001–200000 — 'C';\n",
    "- 200001–1000000 — 'B';\n",
    "- 1000001 и more — 'A'."
   ]
  },
  {
   "cell_type": "markdown",
   "id": "0ec6f3d2",
   "metadata": {},
   "source": [
    "***The share of payment delays according to the category of income we determine below:***"
   ]
  },
  {
   "cell_type": "code",
   "execution_count": 11,
   "id": "c3c636af",
   "metadata": {},
   "outputs": [
    {
     "data": {
      "text/plain": [
       "total_income_category\n",
       "A    0.080000\n",
       "B    0.070602\n",
       "C    0.084982\n",
       "D    0.060172\n",
       "E    0.090909\n",
       "dtype: float64"
      ]
     },
     "execution_count": 11,
     "metadata": {},
     "output_type": "execute_result"
    }
   ],
   "source": [
    "total_income_grouped = data_cleaned.groupby('total_income_category').agg({'debt':['sum','count']})\n",
    "total_income_quality = total_income_grouped['debt']['sum']/total_income_grouped['debt']['count']\n",
    "total_income_quality"
   ]
  },
  {
   "cell_type": "markdown",
   "id": "0eb85eb3",
   "metadata": {},
   "source": [
    "**Conclusions:**\n",
    "\n",
    "- we see that the highest share of loan deferrals (0.09) is among potential borrowers from the 'E' category with an income level of 0-30,000 rubles;\n",
    "- potential borrowers from categories 'A' with income above 1,000,000 rubles (share of deferrals in payment = 0.08) and 'C' with income of 50,001–200,000 rubles (share of deferrals in payment  = 0.084);\n",
    "- finally, the most reliable borrowers fall into category 'D' with an income of 30,001–50,000 rubles (deferral rate = 0.06).\n",
    "\n",
    "It turns out that borrowers with an income of 30,001–50,000 rubles pay the loan most regularly. Considering that Rosstat for 4 quarter 2021 announced the average salary in Russia ~ 54,000 rubles, it turns out that the most reliable borrowers who earn below the average in Russia. This conclusion is difficult to generalize for the whole of Russia; a study for each region of the Russian Federation is recommended."
   ]
  },
  {
   "cell_type": "markdown",
   "id": "654d68c6",
   "metadata": {},
   "source": [
    "### RQ 4 - How do different purposes of a loan affect its repayment on time?"
   ]
  },
  {
   "cell_type": "code",
   "execution_count": 12,
   "id": "6fae2663",
   "metadata": {},
   "outputs": [
    {
     "name": "stdout",
     "output_type": "stream",
     "text": [
      "purpose_category\n",
      "операции с автомобилем      0.093480\n",
      "получение образования       0.092528\n",
      "проведение свадьбы          0.079118\n",
      "операции с недвижимостью    0.072551\n",
      "dtype: float64\n"
     ]
    }
   ],
   "source": [
    "purpose_grouped = data_cleaned.groupby('purpose_category').agg({'debt':['sum','count']})\n",
    "purpose_debt = purpose_grouped['debt']['sum']/purpose_grouped['debt']['count']\n",
    "print(purpose_debt.sort_values(ascending=False))"
   ]
  },
  {
   "cell_type": "markdown",
   "id": "a8ded638",
   "metadata": {},
   "source": [
    "**Conclusions:**\n",
    "\n",
    "- the most unreliable borrowers are those who take loans for education (delay rate 0.092) and car purchase (0.93);\n",
    "- next, borrowers who take loans for weddings (delay rate = 0.079);\n",
    "- the most reliable borrowers are those who take out loans for real estate transactions (delay rate = 0.072)."
   ]
  },
  {
   "cell_type": "markdown",
   "id": "1b7b0caf",
   "metadata": {},
   "source": [
    "### _Notes_"
   ]
  },
  {
   "cell_type": "markdown",
   "id": "2af98768",
   "metadata": {},
   "source": [
    "_**Possible reasons for missings in the dataset are:** manual data entry errors; bias in filling out the questionnaire for a bank loan by customers or bank employees; some technical error._"
   ]
  },
  {
   "cell_type": "markdown",
   "id": "94207d4c",
   "metadata": {},
   "source": [
    "_**Why is filling missings with the median values is the best solution for quantitative variables?** The median value eliminates the distortion of the results: if an experiment with an abnormal value appears, and we still use the median, then this will not affect the validity of the results._"
   ]
  },
  {
   "cell_type": "markdown",
   "id": "51633490",
   "metadata": {},
   "source": [
    "## 5. General conclusions"
   ]
  },
  {
   "cell_type": "markdown",
   "id": "8d016ac1",
   "metadata": {},
   "source": [
    "### 5.1  The most reliable borrowers (with the lowest rate of deferrals in loan repayment) for banks are: :\n",
    "- those who want a residential loan (not for buying automobile, getting an education or to celebrate a wedding);\n",
    "- married people without children, preferrably widowed;\n",
    "- with an income level 10-15% below the average in Russia 30,001–50,000 RUB per month.\n",
    "\n",
    "### 5.2  The most unreliable borrowers (with the highest rate of deferrals in loan repayment) for bank are: \n",
    "- those who want to take a loan for purchaing a car or getting an education;\n",
    "- single, unmarried people;\n",
    "- families with 4 children; it is important to note that families with a child also have delays, they are in second and third place in terms of the share of delays after large families with 4 children;\n",
    "- with an income level below 30,000 rubles (income category 'E')."
   ]
  },
  {
   "cell_type": "markdown",
   "id": "d1f13c05",
   "metadata": {},
   "source": [
    "_Your questions or comments regarding the project and data analysis are more than welcome to my email **ybezginova2021@gmail.com** or Telegram ***@ybezginova***_\n",
    "\n",
    "_Best wishes,_\n",
    "_Yulia_"
   ]
  },
  {
   "cell_type": "code",
   "execution_count": null,
   "id": "b68e0f53",
   "metadata": {},
   "outputs": [],
   "source": []
  }
 ],
 "metadata": {
  "kernelspec": {
   "display_name": "Python 3 (ipykernel)",
   "language": "python",
   "name": "python3"
  },
  "language_info": {
   "codemirror_mode": {
    "name": "ipython",
    "version": 3
   },
   "file_extension": ".py",
   "mimetype": "text/x-python",
   "name": "python",
   "nbconvert_exporter": "python",
   "pygments_lexer": "ipython3",
   "version": "3.9.7"
  }
 },
 "nbformat": 4,
 "nbformat_minor": 5
}
