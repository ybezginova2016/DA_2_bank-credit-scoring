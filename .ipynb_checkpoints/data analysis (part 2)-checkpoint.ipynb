{
 "cells": [
  {
   "cell_type": "markdown",
   "id": "69d720aa",
   "metadata": {},
   "source": [
    "## Исследование надежности заемщиков _(часть 2)_"
   ]
  },
  {
   "cell_type": "markdown",
   "id": "0d251d03",
   "metadata": {},
   "source": [
    "### 3. Откроем чистые данные"
   ]
  },
  {
   "cell_type": "code",
   "execution_count": 2,
   "id": "dfa2a62d",
   "metadata": {},
   "outputs": [
    {
     "data": {
      "text/html": [
       "<div>\n",
       "<style scoped>\n",
       "    .dataframe tbody tr th:only-of-type {\n",
       "        vertical-align: middle;\n",
       "    }\n",
       "\n",
       "    .dataframe tbody tr th {\n",
       "        vertical-align: top;\n",
       "    }\n",
       "\n",
       "    .dataframe thead th {\n",
       "        text-align: right;\n",
       "    }\n",
       "</style>\n",
       "<table border=\"1\" class=\"dataframe\">\n",
       "  <thead>\n",
       "    <tr style=\"text-align: right;\">\n",
       "      <th></th>\n",
       "      <th>Unnamed: 0</th>\n",
       "      <th>children</th>\n",
       "      <th>days_employed</th>\n",
       "      <th>dob_years</th>\n",
       "      <th>education</th>\n",
       "      <th>education_id</th>\n",
       "      <th>family_status</th>\n",
       "      <th>family_status_id</th>\n",
       "      <th>gender</th>\n",
       "      <th>income_type</th>\n",
       "      <th>debt</th>\n",
       "      <th>total_income</th>\n",
       "      <th>purpose</th>\n",
       "      <th>total_income_category</th>\n",
       "      <th>purpose_category</th>\n",
       "    </tr>\n",
       "  </thead>\n",
       "  <tbody>\n",
       "    <tr>\n",
       "      <th>0</th>\n",
       "      <td>0</td>\n",
       "      <td>1</td>\n",
       "      <td>8437.673028</td>\n",
       "      <td>42</td>\n",
       "      <td>высшее</td>\n",
       "      <td>0</td>\n",
       "      <td>женат / замужем</td>\n",
       "      <td>0</td>\n",
       "      <td>F</td>\n",
       "      <td>сотрудник</td>\n",
       "      <td>0</td>\n",
       "      <td>253875</td>\n",
       "      <td>покупка жилья</td>\n",
       "      <td>B</td>\n",
       "      <td>операции с недвижимостью</td>\n",
       "    </tr>\n",
       "    <tr>\n",
       "      <th>1</th>\n",
       "      <td>1</td>\n",
       "      <td>1</td>\n",
       "      <td>4024.803754</td>\n",
       "      <td>36</td>\n",
       "      <td>среднее</td>\n",
       "      <td>1</td>\n",
       "      <td>женат / замужем</td>\n",
       "      <td>0</td>\n",
       "      <td>F</td>\n",
       "      <td>сотрудник</td>\n",
       "      <td>0</td>\n",
       "      <td>112080</td>\n",
       "      <td>приобретение автомобиля</td>\n",
       "      <td>C</td>\n",
       "      <td>операции с автомобилем</td>\n",
       "    </tr>\n",
       "    <tr>\n",
       "      <th>2</th>\n",
       "      <td>2</td>\n",
       "      <td>0</td>\n",
       "      <td>5623.422610</td>\n",
       "      <td>33</td>\n",
       "      <td>среднее</td>\n",
       "      <td>1</td>\n",
       "      <td>женат / замужем</td>\n",
       "      <td>0</td>\n",
       "      <td>M</td>\n",
       "      <td>сотрудник</td>\n",
       "      <td>0</td>\n",
       "      <td>145885</td>\n",
       "      <td>покупка жилья</td>\n",
       "      <td>C</td>\n",
       "      <td>операции с недвижимостью</td>\n",
       "    </tr>\n",
       "    <tr>\n",
       "      <th>3</th>\n",
       "      <td>3</td>\n",
       "      <td>3</td>\n",
       "      <td>4124.747207</td>\n",
       "      <td>32</td>\n",
       "      <td>среднее</td>\n",
       "      <td>1</td>\n",
       "      <td>женат / замужем</td>\n",
       "      <td>0</td>\n",
       "      <td>M</td>\n",
       "      <td>сотрудник</td>\n",
       "      <td>0</td>\n",
       "      <td>267628</td>\n",
       "      <td>дополнительное образование</td>\n",
       "      <td>B</td>\n",
       "      <td>получение образования</td>\n",
       "    </tr>\n",
       "    <tr>\n",
       "      <th>4</th>\n",
       "      <td>4</td>\n",
       "      <td>0</td>\n",
       "      <td>340266.072047</td>\n",
       "      <td>53</td>\n",
       "      <td>среднее</td>\n",
       "      <td>1</td>\n",
       "      <td>гражданский брак</td>\n",
       "      <td>1</td>\n",
       "      <td>F</td>\n",
       "      <td>пенсионер</td>\n",
       "      <td>0</td>\n",
       "      <td>158616</td>\n",
       "      <td>сыграть свадьбу</td>\n",
       "      <td>C</td>\n",
       "      <td>проведение свадьбы</td>\n",
       "    </tr>\n",
       "    <tr>\n",
       "      <th>5</th>\n",
       "      <td>5</td>\n",
       "      <td>0</td>\n",
       "      <td>926.185831</td>\n",
       "      <td>27</td>\n",
       "      <td>высшее</td>\n",
       "      <td>0</td>\n",
       "      <td>гражданский брак</td>\n",
       "      <td>1</td>\n",
       "      <td>M</td>\n",
       "      <td>компаньон</td>\n",
       "      <td>0</td>\n",
       "      <td>255763</td>\n",
       "      <td>покупка жилья</td>\n",
       "      <td>B</td>\n",
       "      <td>операции с недвижимостью</td>\n",
       "    </tr>\n",
       "    <tr>\n",
       "      <th>6</th>\n",
       "      <td>6</td>\n",
       "      <td>0</td>\n",
       "      <td>2879.202052</td>\n",
       "      <td>43</td>\n",
       "      <td>высшее</td>\n",
       "      <td>0</td>\n",
       "      <td>женат / замужем</td>\n",
       "      <td>0</td>\n",
       "      <td>F</td>\n",
       "      <td>компаньон</td>\n",
       "      <td>0</td>\n",
       "      <td>240525</td>\n",
       "      <td>операции с жильем</td>\n",
       "      <td>B</td>\n",
       "      <td>операции с недвижимостью</td>\n",
       "    </tr>\n",
       "    <tr>\n",
       "      <th>7</th>\n",
       "      <td>7</td>\n",
       "      <td>0</td>\n",
       "      <td>152.779569</td>\n",
       "      <td>50</td>\n",
       "      <td>среднее</td>\n",
       "      <td>1</td>\n",
       "      <td>женат / замужем</td>\n",
       "      <td>0</td>\n",
       "      <td>M</td>\n",
       "      <td>сотрудник</td>\n",
       "      <td>0</td>\n",
       "      <td>135823</td>\n",
       "      <td>образование</td>\n",
       "      <td>C</td>\n",
       "      <td>получение образования</td>\n",
       "    </tr>\n",
       "    <tr>\n",
       "      <th>8</th>\n",
       "      <td>8</td>\n",
       "      <td>2</td>\n",
       "      <td>6929.865299</td>\n",
       "      <td>35</td>\n",
       "      <td>высшее</td>\n",
       "      <td>0</td>\n",
       "      <td>гражданский брак</td>\n",
       "      <td>1</td>\n",
       "      <td>F</td>\n",
       "      <td>сотрудник</td>\n",
       "      <td>0</td>\n",
       "      <td>95856</td>\n",
       "      <td>на проведение свадьбы</td>\n",
       "      <td>C</td>\n",
       "      <td>проведение свадьбы</td>\n",
       "    </tr>\n",
       "    <tr>\n",
       "      <th>9</th>\n",
       "      <td>9</td>\n",
       "      <td>0</td>\n",
       "      <td>2188.756445</td>\n",
       "      <td>41</td>\n",
       "      <td>среднее</td>\n",
       "      <td>1</td>\n",
       "      <td>женат / замужем</td>\n",
       "      <td>0</td>\n",
       "      <td>M</td>\n",
       "      <td>сотрудник</td>\n",
       "      <td>0</td>\n",
       "      <td>144425</td>\n",
       "      <td>покупка жилья для семьи</td>\n",
       "      <td>C</td>\n",
       "      <td>операции с недвижимостью</td>\n",
       "    </tr>\n",
       "  </tbody>\n",
       "</table>\n",
       "</div>"
      ],
      "text/plain": [
       "   Unnamed: 0  children  days_employed  dob_years education  education_id  \\\n",
       "0           0         1    8437.673028         42    высшее             0   \n",
       "1           1         1    4024.803754         36   среднее             1   \n",
       "2           2         0    5623.422610         33   среднее             1   \n",
       "3           3         3    4124.747207         32   среднее             1   \n",
       "4           4         0  340266.072047         53   среднее             1   \n",
       "5           5         0     926.185831         27    высшее             0   \n",
       "6           6         0    2879.202052         43    высшее             0   \n",
       "7           7         0     152.779569         50   среднее             1   \n",
       "8           8         2    6929.865299         35    высшее             0   \n",
       "9           9         0    2188.756445         41   среднее             1   \n",
       "\n",
       "      family_status  family_status_id gender income_type  debt  total_income  \\\n",
       "0   женат / замужем                 0      F   сотрудник     0        253875   \n",
       "1   женат / замужем                 0      F   сотрудник     0        112080   \n",
       "2   женат / замужем                 0      M   сотрудник     0        145885   \n",
       "3   женат / замужем                 0      M   сотрудник     0        267628   \n",
       "4  гражданский брак                 1      F   пенсионер     0        158616   \n",
       "5  гражданский брак                 1      M   компаньон     0        255763   \n",
       "6   женат / замужем                 0      F   компаньон     0        240525   \n",
       "7   женат / замужем                 0      M   сотрудник     0        135823   \n",
       "8  гражданский брак                 1      F   сотрудник     0         95856   \n",
       "9   женат / замужем                 0      M   сотрудник     0        144425   \n",
       "\n",
       "                      purpose total_income_category          purpose_category  \n",
       "0               покупка жилья                     B  операции с недвижимостью  \n",
       "1     приобретение автомобиля                     C    операции с автомобилем  \n",
       "2               покупка жилья                     C  операции с недвижимостью  \n",
       "3  дополнительное образование                     B     получение образования  \n",
       "4             сыграть свадьбу                     C        проведение свадьбы  \n",
       "5               покупка жилья                     B  операции с недвижимостью  \n",
       "6           операции с жильем                     B  операции с недвижимостью  \n",
       "7                 образование                     C     получение образования  \n",
       "8       на проведение свадьбы                     C        проведение свадьбы  \n",
       "9     покупка жилья для семьи                     C  операции с недвижимостью  "
      ]
     },
     "metadata": {},
     "output_type": "display_data"
    }
   ],
   "source": [
    "import pandas as pd\n",
    "data_cleaned = pd.read_csv('/Users/yuliabezginova/PycharmProjects/project-1_bank-credit-scoring/data_cleaned.csv')\n",
    "display(data_cleaned.head(10))"
   ]
  },
  {
   "cell_type": "markdown",
   "id": "318885ee",
   "metadata": {},
   "source": [
    "## 4. Исследуем чистые данные и ответим на исследовательские вопросы"
   ]
  },
  {
   "cell_type": "markdown",
   "id": "a7885e05",
   "metadata": {},
   "source": [
    "### Вопрос 1 - Есть ли зависимость между количеством детей и возвратом кредита в срок?"
   ]
  },
  {
   "cell_type": "markdown",
   "id": "e25b50fa",
   "metadata": {},
   "source": [
    "Рассчитывать корреляцию Пирсона в данном случае (во всех четырёх вопросах) не эффективно, так как в данном случае одна из переменных категориальная (наличие долга)."
   ]
  },
  {
   "cell_type": "markdown",
   "id": "af2f7fd5",
   "metadata": {},
   "source": [
    "**1) Изучим, какие значения принимает переменная children в данных.**"
   ]
  },
  {
   "cell_type": "code",
   "execution_count": 5,
   "id": "948476a7",
   "metadata": {},
   "outputs": [
    {
     "name": "stdout",
     "output_type": "stream",
     "text": [
      "[1 0 3 2 4 5]\n"
     ]
    }
   ],
   "source": [
    "print(data_cleaned['children'].unique())"
   ]
  },
  {
   "cell_type": "markdown",
   "id": "7a3f0584",
   "metadata": {},
   "source": [
    "**2)  Изучим влияние числа детей на долю просрочек по кредиту.**"
   ]
  },
  {
   "cell_type": "code",
   "execution_count": 6,
   "id": "c0b74afe",
   "metadata": {},
   "outputs": [
    {
     "data": {
      "text/plain": [
       "children\n",
       "0    0.075438\n",
       "1    0.092346\n",
       "2    0.094542\n",
       "3    0.081818\n",
       "4    0.097561\n",
       "5    0.000000\n",
       "dtype: float64"
      ]
     },
     "execution_count": 6,
     "metadata": {},
     "output_type": "execute_result"
    }
   ],
   "source": [
    "children_grouped = data_cleaned.groupby('children').agg({'debt': ['count', 'sum']})\n",
    "children_debt_quality = children_grouped['debt']['sum'] / children_grouped['debt']['count']\n",
    "children_debt_quality"
   ]
  },
  {
   "cell_type": "markdown",
   "id": "523f34bd",
   "metadata": {},
   "source": [
    "### Вывод:\n",
    "- самые ненадежные заемщики с самой **высокой** долей просрочек 0.097 - это многодетные семьи с 4-мя детьми;\n",
    "- самые надежные заемщики с самой **низкой** долей просрочек по кредиту 0.075 - это заемщики _без детей_.\n",
    "\n",
    "Интересно, что для семей с пятью детьми, доля просрочек как будто равна нулю. Однако, судя по тому, что для многодетных детей с 4-мя детьми доля просрочек максимальная, было бы ошибочным сделать вывод о том, что многодетные семьи с 5-ю детьми являются более надежными заемщики, чем оные с четырьмя. Скорее всего, дело в устройстве датасета: данные по количеству детей есть, а данные по долгам отсутствуют."
   ]
  },
  {
   "cell_type": "markdown",
   "id": "e617b946",
   "metadata": {},
   "source": [
    "### Вопрос 2 - Есть ли зависимость между семейным положением и возвратом кредита в срок?"
   ]
  },
  {
   "cell_type": "markdown",
   "id": "e7994795",
   "metadata": {},
   "source": [
    "**1) Изучим, какие значения принимает переменная family_status в данных.**"
   ]
  },
  {
   "cell_type": "code",
   "execution_count": 8,
   "id": "556b72b6",
   "metadata": {},
   "outputs": [
    {
     "name": "stdout",
     "output_type": "stream",
     "text": [
      "['женат / замужем' 'гражданский брак' 'вдовец / вдова' 'в разводе'\n",
      " 'Не женат / не замужем']\n"
     ]
    }
   ],
   "source": [
    "print(data_cleaned['family_status'].unique())"
   ]
  },
  {
   "cell_type": "markdown",
   "id": "bc0557d2",
   "metadata": {},
   "source": [
    "_Понимая, какие значения принимает категориальная переменная family_status, группируем и посчитаем долю просрочек по кредиту._"
   ]
  },
  {
   "cell_type": "code",
   "execution_count": 9,
   "id": "825f1620",
   "metadata": {},
   "outputs": [
    {
     "data": {
      "text/plain": [
       "family_status\n",
       "Не женат / не замужем    0.097639\n",
       "в разводе                0.070648\n",
       "вдовец / вдова           0.066246\n",
       "гражданский брак         0.093130\n",
       "женат / замужем          0.075606\n",
       "dtype: float64"
      ]
     },
     "execution_count": 9,
     "metadata": {},
     "output_type": "execute_result"
    }
   ],
   "source": [
    "family_grouped = data_cleaned.groupby('family_status').agg({'debt': ['count', 'sum']})\n",
    "family_debt_quality = family_grouped['debt']['sum'] / family_grouped['debt']['count']\n",
    "family_debt_quality"
   ]
  },
  {
   "cell_type": "markdown",
   "id": "c3e19136",
   "metadata": {},
   "source": [
    "### Вывод:\n",
    "\n",
    "- одинокие заемщики без семьи (family_status = 'Не женат / не замужем') имеют наибольшую долю просрочек по кредиту 0.097. Это неожиданно, ведь выше был вывод о том, что семьи БЕЗ детей платят кредит исправно. Однако теперь можно расширить вывод о том, что мало не иметь детей, чтобы являться надежым заемщиком для банка, надо еще и не быть одиноким (быть женатым / замужем);\n",
    "- наименьшая доля просрочек 0.66 по кредиту выявлена у овдовевших супругов (family_status = 'вдовец / вдова')."
   ]
  },
  {
   "cell_type": "markdown",
   "id": "48d469fe",
   "metadata": {},
   "source": [
    "### Вопрос 3 - Есть ли зависимость между уровнем дохода и возвратом кредита в срок?"
   ]
  },
  {
   "cell_type": "markdown",
   "id": "5301f45e",
   "metadata": {},
   "source": [
    "**Уточним существующие категории заемщиков по уровню дохода:**\n",
    "- 0–30000 — 'E'; \n",
    "- 30001–50000 — 'D';\n",
    "- 50001–200000 — 'C';\n",
    "- 200001–1000000 — 'B';\n",
    "- 1000001 и выше — 'A'."
   ]
  },
  {
   "cell_type": "markdown",
   "id": "c66229b8",
   "metadata": {},
   "source": [
    "***Долю просрочек в зависимости от категории дохода определим ниже:***"
   ]
  },
  {
   "cell_type": "code",
   "execution_count": 11,
   "id": "a5fc97e9",
   "metadata": {},
   "outputs": [
    {
     "data": {
      "text/plain": [
       "total_income_category\n",
       "A    0.080000\n",
       "B    0.070602\n",
       "C    0.084982\n",
       "D    0.060172\n",
       "E    0.090909\n",
       "dtype: float64"
      ]
     },
     "execution_count": 11,
     "metadata": {},
     "output_type": "execute_result"
    }
   ],
   "source": [
    "total_income_grouped = data_cleaned.groupby('total_income_category').agg({'debt':['sum','count']})\n",
    "total_income_quality = total_income_grouped['debt']['sum']/total_income_grouped['debt']['count']\n",
    "total_income_quality"
   ]
  },
  {
   "cell_type": "markdown",
   "id": "2039b86f",
   "metadata": {},
   "source": [
    "**Выводы:**\n",
    "\n",
    "- видим, что самая высокая доля просрочек по кредиту (0.09) у потенциальных заемщиков из категоии 'Е' с уровнем дохода 0-30000 руб;\n",
    "- далее по росту надежности следуют потенциальные заемщики из категорий 'А' с доходом выше 1000000 руб (доля просрочек = 0.08) и 'С' с доходом 50001–200000 руб (доля просрочек = 0.084);\n",
    "- наконец, самые надежные заемщики попадают в категорию 'D' с доходом 30001–50000 руб (доля просрочек = 0.06).\n",
    "\n",
    "Получается, что исправнее всего кредит платят заемщики с доходом 30001–50000 руб. Учитывая, что Росстат на 4 кв. 2021 года заявил среднюю зарплату по России ~ 54000 руб, получается, что самые надежные заемщики, которые зарабатывают ниже среднего по России. Данный вывод сложно обобщить для всей России, рекомендовано исследование по каждому региону РФ."
   ]
  },
  {
   "cell_type": "markdown",
   "id": "347742fd",
   "metadata": {},
   "source": [
    "### Вопрос 4 - Как разные цели кредита влияют на его возврат в срок?"
   ]
  },
  {
   "cell_type": "code",
   "execution_count": 12,
   "id": "d1aa5a37",
   "metadata": {},
   "outputs": [
    {
     "name": "stdout",
     "output_type": "stream",
     "text": [
      "purpose_category\n",
      "операции с автомобилем      0.093480\n",
      "получение образования       0.092528\n",
      "проведение свадьбы          0.079118\n",
      "операции с недвижимостью    0.072551\n",
      "dtype: float64\n"
     ]
    }
   ],
   "source": [
    "purpose_grouped = data_cleaned.groupby('purpose_category').agg({'debt':['sum','count']})\n",
    "purpose_debt = purpose_grouped['debt']['sum']/purpose_grouped['debt']['count']\n",
    "print(purpose_debt.sort_values(ascending=False))"
   ]
  },
  {
   "cell_type": "markdown",
   "id": "196a6ae9",
   "metadata": {},
   "source": [
    "**Вывод:**\n",
    "\n",
    "- самые ненадежные заемщики те, кто берут кредиты на образование (доля просрочки 0.092) и покупку автомобиля (0.93);\n",
    "- далее по росту надежности следуют заемщики, которые берут кредиты на проведение свадьбы (доля просрочки = 0.079);\n",
    "- самые надежные заемщики - те, кто берут кредиты на операции с недвижимостью (доля просрочки = 0.072)."
   ]
  },
  {
   "cell_type": "markdown",
   "id": "297ba4a4",
   "metadata": {},
   "source": [
    "### _Пояснения_"
   ]
  },
  {
   "cell_type": "markdown",
   "id": "ea75479b",
   "metadata": {},
   "source": [
    "_**Возможные причины появления пропусков в исходных данных:** ручные ошибки ввода данных; необъективность заполнения анкеты на кредитование клиентами или сотрудниками банка; технический сбой._"
   ]
  },
  {
   "cell_type": "markdown",
   "id": "4f6d1cc5",
   "metadata": {},
   "source": [
    "_**Почему заполнить пропуски медианным значением — лучшее решение для количественных переменных?** Медиана исключает искажение результатов: если появится эксперимент со аномальным значением, а у нас все равно будет использоваться медиана, то на валидность результатов это не отразится._"
   ]
  },
  {
   "cell_type": "markdown",
   "id": "54ba6c5c",
   "metadata": {},
   "source": [
    "## 5. Общие выводы проекта"
   ]
  },
  {
   "cell_type": "markdown",
   "id": "bb08e8d4",
   "metadata": {},
   "source": [
    "### 5.1  Идеальные заемщики (с наименьшей долей просрочки) для банка при рассмотрении заявки на кредиты - это:\n",
    "- желающие взять ипотечный кредит (не автокредит, не кредит на образование и не автокредит);\n",
    "- семейные люди без детей, желательно вдовец или вдова;\n",
    "- с уровнем дохода на 10-15% ниже среднестатического по России 30001–50000 руб.\n",
    "\n",
    "### 5.2  Самые ненадежные заемщики (с наибольшей долей просрочки) для банка при рассмотрении заявки на кредиты - это:\n",
    "- желающие взять кредит на автомобиль или кредит на образование;\n",
    "- одинокие люди (family_status = 'Не женат / не замужем');\n",
    "- семьи с 4-мя детьми; важно отметить, что семьи с ребенком тоже имеют просрочки, идут на втором и третьем месте по доле просрочек после многодетных семей с 4-мя детьми;\n",
    "- с уровнем дохода ниже 30000 руб (категория дохода 'Е')."
   ]
  },
  {
   "cell_type": "markdown",
   "id": "336df8bc",
   "metadata": {},
   "source": [
    "_Your questions or comments regarding the project and data analysis are more than welcome to my email **ybezginova2021@gmail.com** or Telegram ***@ybezginova***_\n",
    "\n",
    "_Best wishes,_\n",
    "_Yulia_"
   ]
  },
  {
   "cell_type": "code",
   "execution_count": null,
   "id": "4d0487e4",
   "metadata": {},
   "outputs": [],
   "source": []
  }
 ],
 "metadata": {
  "kernelspec": {
   "display_name": "Python 3 (ipykernel)",
   "language": "python",
   "name": "python3"
  },
  "language_info": {
   "codemirror_mode": {
    "name": "ipython",
    "version": 3
   },
   "file_extension": ".py",
   "mimetype": "text/x-python",
   "name": "python",
   "nbconvert_exporter": "python",
   "pygments_lexer": "ipython3",
   "version": "3.9.7"
  }
 },
 "nbformat": 4,
 "nbformat_minor": 5
}
